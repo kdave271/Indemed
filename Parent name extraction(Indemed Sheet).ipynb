{
 "cells": [
  {
   "cell_type": "code",
   "execution_count": 30,
   "metadata": {},
   "outputs": [],
   "source": [
    "import pandas as pd\n",
    "from fuzzywuzzy import fuzz\n",
    "import numpy as np\n",
    "import itertools\n",
    "import copy"
   ]
  },
  {
   "cell_type": "code",
   "execution_count": 31,
   "metadata": {},
   "outputs": [],
   "source": [
    "# reading the given file.\n",
    "newdf = pd.read_csv(\"indemed new entry sheet 4000.csv\")"
   ]
  },
  {
   "cell_type": "code",
   "execution_count": 3,
   "metadata": {},
   "outputs": [],
   "source": [
    "df = pd.DataFrame(data = newdf['SHORT DESCRIPTION'], columns=['SHORT DESCRIPTION'])\n",
    "df['FullSentenceRatio'] = 0"
   ]
  },
  {
   "cell_type": "code",
   "execution_count": 4,
   "metadata": {},
   "outputs": [],
   "source": [
    "# find the adjacent ratio of all SHORT DESCRIPTION.\n",
    "temp = df['SHORT DESCRIPTION'][0]\n",
    "for index,rows in df.iterrows():\n",
    "    df.loc[index,'FullSentenceRatio'] = fuzz.ratio(rows[0].lower(), temp.lower())\n",
    "    temp = rows[0]"
   ]
  },
  {
   "cell_type": "code",
   "execution_count": 5,
   "metadata": {},
   "outputs": [],
   "source": [
    "#Creating final list(contains batches) with ratio >= 70.\n",
    "final=[]\n",
    "semi_final=[]\n",
    "for index, rows in df.iterrows():\n",
    "    if index==0:\n",
    "        semi_final.append(rows['SHORT DESCRIPTION'])\n",
    "        continue\n",
    "    if rows['FullSentenceRatio']>=70:\n",
    "        semi_final.append(rows['SHORT DESCRIPTION'])\n",
    "    else:\n",
    "        final.append(semi_final)\n",
    "        semi_final=[]\n",
    "        semi_final.append(rows['SHORT DESCRIPTION'])"
   ]
  },
  {
   "cell_type": "code",
   "execution_count": 6,
   "metadata": {},
   "outputs": [],
   "source": [
    "# Separating Single_line item from final list.\n",
    "single_line=[]\n",
    "for i in final:\n",
    "    if len(i)==1:\n",
    "        single_line.append(i)\n",
    "count=0\n",
    "for i in single_line:\n",
    "    if i in final:\n",
    "        final.remove(i)\n",
    "        single_line[count]=i[0]\n",
    "        count+=1"
   ]
  },
  {
   "cell_type": "code",
   "execution_count": 7,
   "metadata": {},
   "outputs": [],
   "source": [
    "copy_final = copy.deepcopy(final)\n",
    "copy_single_line = copy.deepcopy(single_line)"
   ]
  },
  {
   "cell_type": "markdown",
   "metadata": {},
   "source": [
    "#### In next 5 cell we are extracting Parent Name of final list's Batch. \n",
    "#### matrix_list is created -> Batches with parent name.\n",
    "#### batch_wo_pn -> Batches without parent name."
   ]
  },
  {
   "cell_type": "code",
   "execution_count": 8,
   "metadata": {},
   "outputs": [],
   "source": [
    "def remove_commas(batch):\n",
    "    for i in range(len(batch)):\n",
    "        batch[i] = batch[i].split(',')\n",
    "        batch[i] = ''.join(batch[i])\n",
    "        batch[i] = batch[i].replace('  ',' ')\n",
    "    return batch"
   ]
  },
  {
   "cell_type": "code",
   "execution_count": 9,
   "metadata": {},
   "outputs": [],
   "source": [
    "l2=[]\n",
    "for i in final:\n",
    "    batch = remove_commas(i)\n",
    "    l2.append(batch)"
   ]
  },
  {
   "cell_type": "code",
   "execution_count": 10,
   "metadata": {},
   "outputs": [],
   "source": [
    "def calculate_shortest_string(batch):\n",
    "    max_num = 10000\n",
    "    string = []\n",
    "    for i in batch:\n",
    "        if len(i) < max_num:\n",
    "            max_num = len(i)\n",
    "            string = i\n",
    "    return string"
   ]
  },
  {
   "cell_type": "code",
   "execution_count": 11,
   "metadata": {},
   "outputs": [],
   "source": [
    "matrix_list = []\n",
    "batch_wo_pn = []"
   ]
  },
  {
   "cell_type": "code",
   "execution_count": 12,
   "metadata": {},
   "outputs": [],
   "source": [
    "for i,tf in zip(l2,copy_final):\n",
    "    parent_name = []\n",
    "    sht_str = calculate_shortest_string(i)\n",
    "    sht_str = sht_str.split()\n",
    "    for j in range(len(sht_str)):\n",
    "        flag=0\n",
    "        for k in i:\n",
    "            k = k.split()\n",
    "            if sht_str[j].lower()==k[j].lower():\n",
    "                flag=1\n",
    "            else:\n",
    "                flag=0\n",
    "                break\n",
    "        if flag==0:\n",
    "            break\n",
    "        if flag:\n",
    "            parent_name.append(sht_str[j])       \n",
    "    pn = ' '.join(parent_name)\n",
    "    if pn == '':\n",
    "        for si in tf:\n",
    "            batch_wo_pn.append(si)        \n",
    "    else:     \n",
    "        matrix_list.append(str(pn))\n",
    "        matrix_list +=  tf\n",
    "        matrix_list.append(np.nan)"
   ]
  },
  {
   "cell_type": "code",
   "execution_count": 13,
   "metadata": {},
   "outputs": [],
   "source": [
    "# Applying the same rule which is used above on df with threshold_ratio of 85.\n",
    "bwpn_df = pd.DataFrame(batch_wo_pn, columns=['Batch w/o pn'])\n",
    "bwpn_df['Ratio'] = 0"
   ]
  },
  {
   "cell_type": "code",
   "execution_count": 14,
   "metadata": {},
   "outputs": [],
   "source": [
    "temp = bwpn_df['Batch w/o pn'][0]\n",
    "for index,rows in bwpn_df.iterrows():\n",
    "        bwpn_df.loc[index,'Ratio'] = fuzz.ratio(rows[0].lower(), temp.lower())\n",
    "        temp = rows[0]"
   ]
  },
  {
   "cell_type": "code",
   "execution_count": 15,
   "metadata": {},
   "outputs": [],
   "source": [
    "bwpn_final=[]\n",
    "semi_final=[]\n",
    "for index, rows in bwpn_df.iterrows():\n",
    "    if index==0:\n",
    "        semi_final.append(rows['Batch w/o pn'])\n",
    "        #final.append(semi_final)\n",
    "        continue\n",
    "    if rows['Ratio']>=85:\n",
    "        semi_final.append(rows['Batch w/o pn'])\n",
    "    else:\n",
    "        bwpn_final.append(semi_final)\n",
    "        semi_final=[]\n",
    "        semi_final.append(rows['Batch w/o pn'])"
   ]
  },
  {
   "cell_type": "code",
   "execution_count": 16,
   "metadata": {},
   "outputs": [],
   "source": [
    "copy_bwpn_final = copy.deepcopy(bwpn_final)"
   ]
  },
  {
   "cell_type": "code",
   "execution_count": 17,
   "metadata": {},
   "outputs": [],
   "source": [
    "def remove_commas(batch):\n",
    "    for i in range(len(batch)):\n",
    "        batch[i] = batch[i].split(',')\n",
    "        batch[i] = ''.join(batch[i])\n",
    "        batch[i] = batch[i].replace('  ',' ')\n",
    "    return batch"
   ]
  },
  {
   "cell_type": "code",
   "execution_count": 18,
   "metadata": {},
   "outputs": [],
   "source": [
    "l2=[]\n",
    "for i in bwpn_final:\n",
    "    batch = remove_commas(i)\n",
    "    l2.append(batch)"
   ]
  },
  {
   "cell_type": "code",
   "execution_count": 19,
   "metadata": {},
   "outputs": [],
   "source": [
    "def calculate_shortest_string(batch):\n",
    "    max_num = 10000\n",
    "    string = []\n",
    "    for i in batch:\n",
    "        if len(i) < max_num:\n",
    "            max_num = len(i)\n",
    "            string = i\n",
    "    return string"
   ]
  },
  {
   "cell_type": "code",
   "execution_count": 20,
   "metadata": {},
   "outputs": [],
   "source": [
    "new_batch_wo_pn = []"
   ]
  },
  {
   "cell_type": "code",
   "execution_count": 21,
   "metadata": {},
   "outputs": [],
   "source": [
    "for i,tf in zip(l2,copy_bwpn_final):\n",
    "    if len(i)!=1:\n",
    "        parent_name = []\n",
    "        sht_str = calculate_shortest_string(i)\n",
    "        sht_str = sht_str.split()\n",
    "        for j in range(len(sht_str)):\n",
    "            flag=0\n",
    "            for k in i:\n",
    "                k = k.split()\n",
    "                if sht_str[j].lower()==k[j].lower():\n",
    "                    flag=1\n",
    "                else:\n",
    "                    flag=0\n",
    "                    break\n",
    "            if flag==0:\n",
    "                break\n",
    "            if flag:\n",
    "                parent_name.append(sht_str[j])       \n",
    "        pn = ' '.join(parent_name)\n",
    "        if pn == '':\n",
    "            for si in tf:\n",
    "                new_batch_wo_pn.append(si)        \n",
    "        else:     \n",
    "            matrix_list.append(str(pn))\n",
    "            matrix_list +=  tf\n",
    "            matrix_list.append(np.nan)\n",
    "    else:\n",
    "        single_line.append(tf)"
   ]
  },
  {
   "cell_type": "code",
   "execution_count": 22,
   "metadata": {},
   "outputs": [],
   "source": [
    "finaldf = pd.DataFrame(columns = newdf.columns)"
   ]
  },
  {
   "cell_type": "code",
   "execution_count": 23,
   "metadata": {},
   "outputs": [],
   "source": [
    "def make_df(batch):\n",
    "    global finaldf\n",
    "    batch_to_series = pd.Series(batch)\n",
    "    uniquebatch = batch_to_series.unique()\n",
    "    uniquebatch = list(uniquebatch)\n",
    "    for i in uniquebatch:\n",
    "        tempdf = newdf[newdf['SHORT DESCRIPTION']==i]\n",
    "        finaldf = finaldf.append(tempdf,ignore_index=True)"
   ]
  },
  {
   "cell_type": "code",
   "execution_count": 24,
   "metadata": {},
   "outputs": [],
   "source": [
    "def insert_parent_row(row):\n",
    "    global finaldf\n",
    "    df_length = len(finaldf)\n",
    "    finaldf.loc[df_length] = row"
   ]
  },
  {
   "cell_type": "code",
   "execution_count": 25,
   "metadata": {},
   "outputs": [],
   "source": [
    "temp = []\n",
    "for i in range(len(matrix_list)):\n",
    "    if pd.isnull(matrix_list[i]):\n",
    "        make_df(temp)\n",
    "        temp = []\n",
    "    elif i==0 or pd.isnull(matrix_list[i-1]):\n",
    "        row = [np.nan]*30\n",
    "        row[5] = matrix_list[i]\n",
    "        insert_parent_row(row)\n",
    "    else:\n",
    "        temp.append(matrix_list[i])   "
   ]
  },
  {
   "cell_type": "code",
   "execution_count": 26,
   "metadata": {},
   "outputs": [],
   "source": [
    "finaldf.to_csv('FinalDF.csv',index=False)"
   ]
  },
  {
   "cell_type": "markdown",
   "metadata": {},
   "source": [
    "#### Finaldf has parent name extracted from the batched made from the indemed sheet."
   ]
  },
  {
   "cell_type": "code",
   "execution_count": 27,
   "metadata": {},
   "outputs": [],
   "source": [
    "single_line = pd.Series(single_line, name='Short Description')"
   ]
  },
  {
   "cell_type": "code",
   "execution_count": 28,
   "metadata": {},
   "outputs": [],
   "source": [
    "new_batch_wo_pn = pd.Series(new_batch_wo_pn, name='Short Description')"
   ]
  },
  {
   "cell_type": "code",
   "execution_count": 29,
   "metadata": {},
   "outputs": [],
   "source": [
    "single_line.to_csv('Single line item.csv', index=False)\n",
    "new_batch_wo_pn.to_csv('Batches PN not extracted.csv', index=False)"
   ]
  },
  {
   "cell_type": "code",
   "execution_count": null,
   "metadata": {},
   "outputs": [],
   "source": []
  }
 ],
 "metadata": {
  "kernelspec": {
   "display_name": "Python 3",
   "language": "python",
   "name": "python3"
  },
  "language_info": {
   "codemirror_mode": {
    "name": "ipython",
    "version": 3
   },
   "file_extension": ".py",
   "mimetype": "text/x-python",
   "name": "python",
   "nbconvert_exporter": "python",
   "pygments_lexer": "ipython3",
   "version": "3.7.6"
  }
 },
 "nbformat": 4,
 "nbformat_minor": 4
}
